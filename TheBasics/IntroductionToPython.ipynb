{
 "cells": [
  {
   "cell_type": "markdown",
   "metadata": {},
   "source": [
    "## Introduction to Python\n",
    "\n",
    "These series of notebooks are design to get you familiar with python programming.\n",
    "\n",
    "<a href=\"https://python.org\">Python</a> is an easy to learn interpreted programming language created by <a href=\"https://en.m.wikipedia.org/Guido_van_Rossum\">Guido Van Rossum</a> and it is one of the fastest growing languages in terms of adoption, easy to learn and large host of library for data visualization, data analysis, data science and machine learning which are currently hot topics in the tech industry. Python can also be used to build websites using the <a href=\"https://flask.palletsprojects.com/en/1.1.x/\">flask</a> or <a href=\"https://docs.djangoproject.com/en/3.0/\">django</a> frameworks and host of other cool things can be built using python.\n",
    "<p></p>\n",
    "<center>**Yea python is that cool**</center>\n",
    "<img src=\"images_ui/frozen_man.jpg\" width=\"400\" alt=\"wow python is so cool\"/>\n",
    "<center>_source: pixabay.com_</center>\n",
    "\n",
    "Now that we have you basking in the freezing coolness of python is time to get you **warmed up**."
   ]
  },
  {
   "cell_type": "markdown",
   "metadata": {
    "collapsed": true
   },
   "source": [
    "### Variables Datatypes and Statements\n",
    "\n",
    "Variables are simply defined as named memory locations that holds value/data. when writting you are expected to store certain data which is then used by our program.\n",
    "\n",
    "An example of a simple program will be to calculate the value of **Force** given **mass** and **acceleration** (using the formula F=ma). To perform this calculation mathematically we need to get the values of both mass and acceleration.\n",
    "\n",
    "Assumming we have a mass of 10kg and an acceleration of 20m/s(squared)\n",
    "we can perform the mathematical calculation as follows\n",
    "\n",
    "Force = 10x20\n",
    "Force = 200N\n",
    "\n",
    "In programming however we have to store our values in variables which we can refer to when performing any calculation as shown below.\n",
    "\n",
    "mass = 10 assigning the value of **10** to the variable **mass**\n",
    "acceleration = 20 assigning the value of **20** to the variable **acceleration**"
   ]
  },
  {
   "cell_type": "code",
   "execution_count": 6,
   "metadata": {},
   "outputs": [
    {
     "data": {
      "text/plain": [
       "200"
      ]
     },
     "execution_count": 6,
     "metadata": {},
     "output_type": "execute_result"
    }
   ],
   "source": [
    "mass = 10\n",
    "acceleration = 20\n",
    "\n",
    "force = mass*acceleration #assigning the value of the product of mass and acceleration to the force variable\n",
    "force"
   ]
  },
  {
   "cell_type": "markdown",
   "metadata": {},
   "source": [
    "### Arithmetic operators\n",
    "Arithmetic operators represent mathematical symbols used for performing mathematical operatiions\n",
    "\n",
    "1. **+** Addition operator\n",
    "2. **-** Subtraction operator\n",
    "3. **/** Division operator\n",
    "4. **\\*** Multiplication operator\n",
    "5. **%** Modulus operator\n",
    "6. **//** floor division operator (rounds down to the nearest whole number)\n",
    "7. **()** Bracket Operator (calculations in brackets are done first)"
   ]
  },
  {
   "cell_type": "markdown",
   "metadata": {},
   "source": [
    "#### Datatypes\n",
    "variables common in different forms called datatypes and this defines the type of data that can be stored within each variable.\n",
    "\n",
    "**Common datatypes are:**\n",
    "* Integers(whole numbers)\n",
    "* Floating-point numbers (fractions)\n",
    "* Boolean (True or False)\n",
    "* String (Alpha-numeric data)\n",
    "\n",
    "Datatypes in most languages have to be stated at the point of variable declaration, this is different in python as the interpreter assigns the proper datatype for our variables.\n",
    "\n",
    "We can check a variables datatype by using the **type(variable)** helper function"
   ]
  },
  {
   "cell_type": "code",
   "execution_count": 12,
   "metadata": {
    "scrolled": true
   },
   "outputs": [
    {
     "name": "stdout",
     "output_type": "stream",
     "text": [
      "<class 'float'>\n",
      "<class 'int'>\n",
      "Datatype for distance is:  <class 'float'>\n",
      "Datatype for time is:  <class 'int'>\n"
     ]
    }
   ],
   "source": [
    "distance = 13.5\n",
    "time_taken = 2\n",
    "\n",
    "print(type(12.0)) #Checking the type of the value 12.0\n",
    "print(type(12)) #Checking the type of the value 12\n",
    "print(\"Datatype for distance is: \",type(distance))\n",
    "print(\"Datatype for time is: \",type(time_taken))"
   ]
  },
  {
   "cell_type": "markdown",
   "metadata": {},
   "source": [
    "Notice that **12.0** and **12** have different datatypes, this is because the decimal point denotes a floating point number and the python interpreter is smart enough to figure this out\n",
    "\n",
    "so far we have used two helper functions **print()** and **type()** while we will discuss functions later, to clear the air the print() function is used to output information as seen above while the type() function shows us what the datatype of the variable or value is"
   ]
  },
  {
   "cell_type": "markdown",
   "metadata": {},
   "source": [
    "#### Statements\n",
    "\n",
    "A statement is an instruction that a python interpreter executes\n",
    "**distance = 13.5** this is an assignment statement, assigning the the value 13.5 to the variable distance.\n",
    "\n",
    "There are several types of statements which will be discussed later, they are: \n",
    "1. conditional statements\n",
    "2. while statements\n",
    "3. for statement\n",
    "etc."
   ]
  },
  {
   "cell_type": "markdown",
   "metadata": {},
   "source": [
    "## Enough Talk\n",
    "\n",
    "Lets write some code.\n",
    "\n",
    "1. Assuming given the radius of a circle as 7, how do we calculate the circumference of the circle? Formula (2\\*pi\\*radius) where pi is 22/7\n",
    ">Looking at this question we quickly notice we need three variables one to hold pi, another to hold radius \n",
    "and lastly a circumference variable to store our result which is the product of radius, pi and 2\n",
    "\n",
    "2. An object travelled a distance of 2km within a time of 30s, how do we calculate the velocity of this object? Formula (distance/time)\n",
    ">This question requires us to have three variables distance, time and velocity to hold the result of dividing distance by time"
   ]
  },
  {
   "cell_type": "code",
   "execution_count": 13,
   "metadata": {
    "scrolled": true
   },
   "outputs": [
    {
     "name": "stdout",
     "output_type": "stream",
     "text": [
      "44.0\n"
     ]
    }
   ],
   "source": [
    "pi = 22/7 #assigning the value 22/7 to pi variable\n",
    "radius = 7 #assigning the value of 7 to radius variable\n",
    "circumference = 2*pi*radius #assigning the result of out calculation to the circumference variable\n",
    "\n",
    "print(circumference)"
   ]
  },
  {
   "cell_type": "markdown",
   "metadata": {},
   "source": [
    "Notice the number 2 wasn't stored in a variable, this is because it will be pointless to store a value that doesn't change as a variable in this case, but there cases where it required."
   ]
  },
  {
   "cell_type": "code",
   "execution_count": 15,
   "metadata": {},
   "outputs": [
    {
     "data": {
      "text/plain": [
       "0.06666666666666667"
      ]
     },
     "execution_count": 15,
     "metadata": {},
     "output_type": "execute_result"
    }
   ],
   "source": [
    "distance = 2\n",
    "time = 30\n",
    "\n",
    "velocity = distance/time\n",
    "velocity"
   ]
  },
  {
   "cell_type": "code",
   "execution_count": null,
   "metadata": {
    "collapsed": true
   },
   "outputs": [],
   "source": [
    "#Note the differences between this three types of division\n",
    "print(13/2)\n",
    "print(13//2)\n",
    "print(13%2)"
   ]
  },
  {
   "cell_type": "markdown",
   "metadata": {},
   "source": [
    "So far the values of our variables are hardcoded meaning we assign them right in the code and this won't work in a real life environment since the data will **varry** in different scenarios.\n",
    "This is where we introduced another helper function **input()** which collects user input, used as follows\n",
    "\n",
    ">variable = input(\"Message the User\")\n",
    "\n",
    "So lets change our second example to accept user inputs"
   ]
  },
  {
   "cell_type": "code",
   "execution_count": 19,
   "metadata": {},
   "outputs": [
    {
     "name": "stdout",
     "output_type": "stream",
     "text": [
      "Enter the value of Radius8\n",
      "<class 'str'>\n"
     ]
    },
    {
     "ename": "TypeError",
     "evalue": "can't multiply sequence by non-int of type 'float'",
     "output_type": "error",
     "traceback": [
      "\u001b[1;31m--------------------------------------------------------------\u001b[0m",
      "\u001b[1;31mTypeError\u001b[0m                    Traceback (most recent call last)",
      "\u001b[1;32m<ipython-input-19-2e6babc80169>\u001b[0m in \u001b[0;36m<module>\u001b[1;34m()\u001b[0m\n\u001b[0;32m      2\u001b[0m \u001b[0mradius\u001b[0m \u001b[1;33m=\u001b[0m \u001b[0minput\u001b[0m\u001b[1;33m(\u001b[0m\u001b[1;34m\"Enter the value of Radius\"\u001b[0m\u001b[1;33m)\u001b[0m\u001b[1;33m\u001b[0m\u001b[0m\n\u001b[0;32m      3\u001b[0m \u001b[0mprint\u001b[0m\u001b[1;33m(\u001b[0m\u001b[0mtype\u001b[0m\u001b[1;33m(\u001b[0m\u001b[0mradius\u001b[0m\u001b[1;33m)\u001b[0m\u001b[1;33m)\u001b[0m\u001b[1;33m\u001b[0m\u001b[0m\n\u001b[1;32m----> 4\u001b[1;33m \u001b[0mcircumference\u001b[0m \u001b[1;33m=\u001b[0m \u001b[1;36m2\u001b[0m\u001b[1;33m*\u001b[0m\u001b[0mpi\u001b[0m\u001b[1;33m*\u001b[0m\u001b[0mradius\u001b[0m\u001b[1;33m\u001b[0m\u001b[0m\n\u001b[0m\u001b[0;32m      5\u001b[0m \u001b[0mcircumference\u001b[0m\u001b[1;33m\u001b[0m\u001b[0m\n",
      "\u001b[1;31mTypeError\u001b[0m: can't multiply sequence by non-int of type 'float'"
     ]
    }
   ],
   "source": [
    "pi = 22/7\n",
    "radius = input(\"Enter the value of Radius\")\n",
    "circumference = 2*pi*radius\n",
    "circumference"
   ]
  },
  {
   "cell_type": "markdown",
   "metadata": {},
   "source": [
    "So if you run code above you should get the following error\n",
    ">TypeError: can't multiply sequence by non-int of type 'float'\n",
    "\n",
    "This is so because the input() function collects its data inform of string you can check that for fun using the you guessed it type() function.\n",
    "\n",
    "How do we solve this issue, surely there has to be some way to convert data from text to float or integer, luckily we can. Converting the number can be done like so\n",
    ">radius = int(input(\"Enter the value of Radius\")) #converting to integer\n",
    "\n",
    ">radius = float(input(\"Enter the value of Radius\")) #converting to float"
   ]
  },
  {
   "cell_type": "code",
   "execution_count": 1,
   "metadata": {},
   "outputs": [
    {
     "name": "stdout",
     "output_type": "stream",
     "text": [
      "Enter the value of Radius7\n",
      "The Circumference is:  44.0\n"
     ]
    }
   ],
   "source": [
    "#The correct solution will be this\n",
    "pi = 22/7\n",
    "radius = float(input(\"Enter the value of Radius\")) #converting our string input data to float\n",
    "circumference = 2*pi*radius\n",
    "print(\"The Circumference is: \",circumference)"
   ]
  },
  {
   "cell_type": "markdown",
   "metadata": {},
   "source": [
    "## Logic/Relational operators\n",
    "\n",
    "< Greater than\n",
    "\n",
    "\\> Less than\n",
    "\n",
    "and (makes sure left and right statements are true)\n",
    "\n",
    "not\n",
    "\n",
    "or (either left and right statements are true)\n",
    "\n",
    "\\>= greater than or equal to\n",
    "\n",
    "<= less than or equal to"
   ]
  },
  {
   "cell_type": "markdown",
   "metadata": {},
   "source": [
    "### Conditional Statements\n",
    "Decision making is required when we want to execute a code only if a certain condition is satisfied.\n",
    "\n",
    "The \n",
    "> if…elif…else \n",
    "\n",
    "statement is used in Python for decision making."
   ]
  },
  {
   "cell_type": "code",
   "execution_count": null,
   "metadata": {
    "collapsed": true
   },
   "outputs": [],
   "source": [
    "height = float(input(\"Enter your height: \"))\n",
    "age = int(input(\"Enter your age: \"))\n",
    "\n",
    "if(height > 170):\n",
    "    print('welcome')\n",
    "elif(age>17):\n",
    "    print('welcome')\n",
    "else:\n",
    "    print('you are not qualified')"
   ]
  },
  {
   "cell_type": "code",
   "execution_count": null,
   "metadata": {
    "collapsed": true
   },
   "outputs": [],
   "source": [
    "anotherHeight = float(input(\"Enter your height: \"))\n",
    "anotherAge = int(input(\"Enter your age: \"))\n",
    "\n",
    "if(anotherHeight > 170 or anotherAge >17):\n",
    "    print('welcome')\n",
    "else:\n",
    "    print('you are not qualified')"
   ]
  },
  {
   "cell_type": "code",
   "execution_count": null,
   "metadata": {
    "collapsed": true
   },
   "outputs": [],
   "source": []
  }
 ],
 "metadata": {
  "kernelspec": {
   "display_name": "Python 3",
   "language": "python",
   "name": "python3"
  },
  "language_info": {
   "codemirror_mode": {
    "name": "ipython",
    "version": 3
   },
   "file_extension": ".py",
   "mimetype": "text/x-python",
   "name": "python",
   "nbconvert_exporter": "python",
   "pygments_lexer": "ipython3",
   "version": "3.6.3"
  }
 },
 "nbformat": 4,
 "nbformat_minor": 2
}
