{
 "cells": [
  {
   "attachments": {},
   "cell_type": "markdown",
   "metadata": {},
   "source": [
    "### List Tuples and Sets\n",
    "Lists are mutable collections and are declared with []\n",
    "Tuples are immutable collections declared with ()\n",
    "Set are mutable collections without duplicate without maintaining order, they are declared with {}"
   ]
  },
  {
   "cell_type": "code",
   "execution_count": 15,
   "metadata": {},
   "outputs": [
    {
     "name": "stdout",
     "output_type": "stream",
     "text": [
      "List John, Tuple John\n"
     ]
    }
   ],
   "source": [
    "myList = [\"James\", \"John\", \"Jane\"]\n",
    "myTuple = (\"James\", \"John\", \"Jane\")\n",
    "mySet = {\"James\", \"John\", \"Jane\"}\n",
    "print(f'List {myList[1]}, Tuple {myTuple[1]}')"
   ]
  },
  {
   "cell_type": "code",
   "execution_count": 18,
   "metadata": {},
   "outputs": [
    {
     "name": "stdout",
     "output_type": "stream",
     "text": [
      "['James', 'Jule', 'Jane', 'John', 'Jude']\n",
      "['John', 'Jane', 'James']\n"
     ]
    }
   ],
   "source": [
    "myList.append(\"Jude\")# adds to the end of list\n",
    "myList.insert(1,\"Jule\") # uses index to replace\n",
    "print(myList)\n",
    "myList.pop() # removes from behine the list\n",
    "myList.remove(\"Jule\")\n",
    "myList.sort()\n",
    "myList.reverse()\n",
    "print(myList)"
   ]
  },
  {
   "cell_type": "code",
   "execution_count": 11,
   "metadata": {},
   "outputs": [
    {
     "name": "stdout",
     "output_type": "stream",
     "text": [
      "Unique to Me: {'John'}\n",
      "Unique to you: set()\n"
     ]
    }
   ],
   "source": [
    "yourSet = {\"James\", \"Jane\"}\n",
    "mineAlone = mySet.difference(yourSet)\n",
    "print(f'Unique to Me: {mineAlone}')\n",
    "print(f'Unique to you: {yourSet.difference(mySet)}')"
   ]
  },
  {
   "cell_type": "code",
   "execution_count": 19,
   "metadata": {},
   "outputs": [
    {
     "name": "stdout",
     "output_type": "stream",
     "text": [
      "{'Jane', 'James', 'John'}\n"
     ]
    }
   ],
   "source": [
    "allOfUs = yourSet.union(mySet)\n",
    "print(bothOfUs)"
   ]
  },
  {
   "cell_type": "code",
   "execution_count": 21,
   "metadata": {},
   "outputs": [
    {
     "name": "stdout",
     "output_type": "stream",
     "text": [
      "{'Jane', 'James'}\n"
     ]
    }
   ],
   "source": [
    "bothOfUs = yourSet.intersection(mySet)\n",
    "print(bothOfUs)"
   ]
  },
  {
   "cell_type": "code",
   "execution_count": null,
   "metadata": {},
   "outputs": [],
   "source": []
  }
 ],
 "metadata": {
  "kernelspec": {
   "display_name": "Python 3",
   "language": "python",
   "name": "python3"
  },
  "language_info": {
   "codemirror_mode": {
    "name": "ipython",
    "version": 3
   },
   "file_extension": ".py",
   "mimetype": "text/x-python",
   "name": "python",
   "nbconvert_exporter": "python",
   "pygments_lexer": "ipython3",
   "version": "3.10.9"
  },
  "orig_nbformat": 4,
  "vscode": {
   "interpreter": {
    "hash": "b0fa6594d8f4cbf19f97940f81e996739fb7646882a419484c72d19e05852a7e"
   }
  }
 },
 "nbformat": 4,
 "nbformat_minor": 2
}
