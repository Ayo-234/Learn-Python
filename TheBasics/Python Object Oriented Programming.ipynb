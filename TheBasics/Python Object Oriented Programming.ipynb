{
 "cells": [
  {
   "cell_type": "markdown",
   "metadata": {},
   "source": [
    "## Object Oriented Programming (OOP)\n",
    "> DRY = Don't Repeat Yourself\n",
    "\n",
    "The concept of OOP is built around code reuablility, this way code that has been written is easily used in new projects or usecases without having to write the whole code.\n",
    "\n",
    "### OOP Characteristics\n",
    "\n",
    "An object has two characteristics\n",
    "1. Attributes\n",
    "2. Behaviour\n",
    "\n",
    "So a baby object will have\n",
    "* Attributes - name, age, weight and height\n",
    "* Behaviour - crying, eating and sleeping\n",
    "\n",
    "### Principles of OOP\n",
    "Object Oriented Programming is built around the following principles\n",
    "* Inheritance - The process of using code from a super or parent class in child class.\n",
    "* Encapsulation - Hiding information of certain class or classes from others.\n",
    "* Polymorphism - This means one thing having many forms; in OOP it refers to the ability to use a method or function in multiple was depending on the input data"
   ]
  },
  {
   "cell_type": "markdown",
   "metadata": {},
   "source": [
    "## Class\n",
    "\n",
    "A class is a blueprint or template for creating objects. Using a class as a blueprint we can create several instances/objects of the class.\n",
    "\n",
    "Create the class using the following syntax:\n",
    ">class ClassName:\n",
    "\n",
    ">     class Members\n",
    "\n",
    "Attributes and Behaviours can be accessed using dot **.** notation\n",
    "\n",
    "__Functions within a class are called methods__"
   ]
  },
  {
   "cell_type": "code",
   "execution_count": 17,
   "metadata": {},
   "outputs": [
    {
     "data": {
      "text/plain": [
       "980.0"
      ]
     },
     "execution_count": 17,
     "metadata": {},
     "output_type": "execute_result"
    }
   ],
   "source": [
    "class Physics:\n",
    "    \n",
    "    gravity = 9.8\n",
    "    \n",
    "    def potentialEnergy(self, mass, height):\n",
    "        return mass*self.gravity*height\n",
    "\n",
    "phy = Physics() #Creating a phyics object\n",
    "phy.potentialEnergy(10, 10) #Calling the potentialEnergy method using the dot notation"
   ]
  },
  {
   "cell_type": "markdown",
   "metadata": {},
   "source": [
    "The **_self_** keyword is used to access attributes at the class level rather than at the local level of a method. Languages like java use the **_this_** keyword. So in this example where we state _m*self.gravity*h_ we are saying pull gravity from the class and multiply it to mass and height"
   ]
  },
  {
   "cell_type": "markdown",
   "metadata": {},
   "source": [
    "### Another Class Example\n",
    "\n",
    "When an object is created a method called the constructor is called, this method is called where you create it or not and it is responsible for __initialising__ the class attributes. This is the **\\_\\_init()\\_\\_** method.\n",
    "\n",
    "So the \\_\\_init\\_\\_ method initializes the attributes of the class and hence can be access in the **_show()_** method via the **_self_** keyword"
   ]
  },
  {
   "cell_type": "code",
   "execution_count": 16,
   "metadata": {},
   "outputs": [
    {
     "name": "stdout",
     "output_type": "stream",
     "text": [
      "Brand:  Gafa Sandals  Name:  Anita  size:  17\n"
     ]
    }
   ],
   "source": [
    "class Shoes:\n",
    "    \n",
    "    def __init__(self, brand, owner, size):\n",
    "        self.brand = brand\n",
    "        self.size = size\n",
    "        self.owner = owner\n",
    "\n",
    "    def show(self):\n",
    "        print(\"Brand: \",self.brand,\" Name: \",self.owner,\" size: \",self.size)\n",
    "\n",
    "sandals = Shoes(\"Gafa Sandals\", \"Anita\", 17)\n",
    "sandals.show()"
   ]
  }
 ],
 "metadata": {
  "kernelspec": {
   "display_name": "Python 3",
   "language": "python",
   "name": "python3"
  },
  "language_info": {
   "codemirror_mode": {
    "name": "ipython",
    "version": 3
   },
   "file_extension": ".py",
   "mimetype": "text/x-python",
   "name": "python",
   "nbconvert_exporter": "python",
   "pygments_lexer": "ipython3",
   "version": "3.6.3"
  }
 },
 "nbformat": 4,
 "nbformat_minor": 2
}
